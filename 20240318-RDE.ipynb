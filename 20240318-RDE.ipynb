{
 "cells": [
  {
   "cell_type": "code",
   "execution_count": 1,
   "id": "3962a5e7-d1c7-4576-bcf7-ddee676d6fd0",
   "metadata": {},
   "outputs": [
    {
     "name": "stdout",
     "output_type": "stream",
     "text": [
      "      YEAR  SAMPLE   SERIAL       CBSERIAL   HHWT        CLUSTER  STATEFIP  \\\n",
      "0     2010  201001     7876         488424   90.0  2010000078761         1   \n",
      "1     2010  201001     7876         488424   90.0  2010000078761         1   \n",
      "2     2010  201001     7876         488424   90.0  2010000078761         1   \n",
      "3     2010  201001    22464        1388149  107.0  2010000224641         1   \n",
      "4     2010  201001    22464        1388149  107.0  2010000224641         1   \n",
      "...    ...     ...      ...            ...    ...            ...       ...   \n",
      "7033  2019  201901  1403102  2019000128243   37.0  2019014031021        55   \n",
      "7034  2019  201901  1404137  2019000186916   46.0  2019014041371        55   \n",
      "7035  2019  201901  1405932  2019000293128  123.0  2019014059321        55   \n",
      "7036  2019  201901  1413819  2019000743427  101.0  2019014138191        55   \n",
      "7037  2019  201901  1418721  2019001023584  143.0  2019014187211        55   \n",
      "\n",
      "       PUMA  METRO   STRATA  ...  EDUC  EDUCD  EMPSTAT  EMPSTATD   OCC   IND  \\\n",
      "0      2400      3   240001  ...    11    114        1        10  1530  6070   \n",
      "1      2400      3   240001  ...    10    101        2        20  1460  3080   \n",
      "2      2400      3   240001  ...     7     71        3        30  4010  8680   \n",
      "3      1300      4   130001  ...     6     63        1        10  9130  8680   \n",
      "4      1300      4   130001  ...     6     64        1        10  4110  8680   \n",
      "...     ...    ...      ...  ...   ...    ...      ...       ...   ...   ...   \n",
      "7033   1301      0   130155  ...    10    101        1        10  4700  5580   \n",
      "7034   1600      4   160055  ...    11    114        1        10  4000  8680   \n",
      "7035    900      4    90055  ...    10    101        3        30     0     0   \n",
      "7036  41005      2  4100555  ...     1     14        0         0     0     0   \n",
      "7037    102      4    10255  ...    10    101        1        10  1530  1080   \n",
      "\n",
      "      WKSWORK2  UHRSWORK   INCTOT  INCWAGE  \n",
      "0            5        30    63000    63000  \n",
      "1            0         0        0        0  \n",
      "2            0         0       60        0  \n",
      "3            4        18    13000    13000  \n",
      "4            3         8     2000     2000  \n",
      "...        ...       ...      ...      ...  \n",
      "7033         6        45    35000        0  \n",
      "7034         6        50    64000    42000  \n",
      "7035         0         0        0        0  \n",
      "7036         0         0  9999999   999999  \n",
      "7037         6        40    81000    81000  \n",
      "\n",
      "[7038 rows x 46 columns]\n"
     ]
    }
   ],
   "source": [
    "import pandas as pd\n",
    "import numpy as np\n",
    "import statsmodels.api as sm\n",
    "\n",
    "df = pd.read_csv('usa_00050.csv.gz')\n",
    "\n",
    "print(df)"
   ]
  },
  {
   "cell_type": "code",
   "execution_count": 2,
   "id": "a3735d80-c7f2-45b8-b427-de2233e17391",
   "metadata": {},
   "outputs": [],
   "source": [
    "# Generate wkswork2_0\n",
    "df['wkswork2_0'] = np.nan\n",
    "df.loc[df['WKSWORK2'] == 1, 'wkswork2_0'] = 7\n",
    "df.loc[df['WKSWORK2'] == 2, 'wkswork2_0'] = 20\n",
    "df.loc[df['WKSWORK2'] == 3, 'wkswork2_0'] = 33\n",
    "df.loc[df['WKSWORK2'] == 4, 'wkswork2_0'] = 43.5\n",
    "df.loc[df['WKSWORK2'] == 5, 'wkswork2_0'] = 48.5\n",
    "df.loc[df['WKSWORK2'] == 6, 'wkswork2_0'] = 51"
   ]
  },
  {
   "cell_type": "code",
   "execution_count": 3,
   "id": "55047103-22bd-4bf2-bcfb-17d5bceb1e70",
   "metadata": {},
   "outputs": [],
   "source": [
    "# Generate uhrswork0\n",
    "df['uhrswork0'] = df['UHRSWORK']\n",
    "df.loc[df['UHRSWORK'] == 0, 'uhrswork0'] = np.nan"
   ]
  },
  {
   "cell_type": "code",
   "execution_count": 4,
   "id": "def5a6bb-9000-4279-aa01-ed850d3b3bfe",
   "metadata": {},
   "outputs": [],
   "source": [
    "# Generate incwage0\n",
    "df['incwage0'] = df['INCWAGE']\n",
    "df.loc[df['INCWAGE'] == 999999, 'incwage0'] = np.nan\n",
    "df.loc[df['INCWAGE'] == 999998, 'incwage0'] = np.nan\n",
    "\n",
    "# Generate inctot0\n",
    "df['inctot0'] = df['INCTOT']\n",
    "df.loc[df['INCTOT'] == 999999, 'inctot0'] = np.nan\n",
    "df.loc[df['INCTOT'] == 999998, 'inctot0'] = np.nan\n",
    "\n",
    "# Handle NaN and infinity values\n",
    "df.replace([np.inf, -np.inf], np.nan, inplace=True)\n",
    "\n",
    "# Handle invalid wage values (e.g., division by zero)\n",
    "df['wage'] = df['incwage0'] / df['wkswork2_0'] / df['uhrswork0']\n",
    "df['wage'] = df['wage'].replace([np.inf, -np.inf], np.nan)  # Replace infinity values with NaN\n"
   ]
  },
  {
   "cell_type": "code",
   "execution_count": 7,
   "id": "89f65494-62f0-4f8a-8195-c23e4e303c9f",
   "metadata": {},
   "outputs": [
    {
     "name": "stdout",
     "output_type": "stream",
     "text": [
      "      YEAR  SAMPLE   SERIAL       CBSERIAL   HHWT        CLUSTER  STATEFIP  \\\n",
      "0     2010  201001     7876         488424   90.0  2010000078761         1   \n",
      "1     2010  201001     7876         488424   90.0  2010000078761         1   \n",
      "2     2010  201001     7876         488424   90.0  2010000078761         1   \n",
      "3     2010  201001    22464        1388149  107.0  2010000224641         1   \n",
      "4     2010  201001    22464        1388149  107.0  2010000224641         1   \n",
      "...    ...     ...      ...            ...    ...            ...       ...   \n",
      "7033  2019  201901  1403102  2019000128243   37.0  2019014031021        55   \n",
      "7034  2019  201901  1404137  2019000186916   46.0  2019014041371        55   \n",
      "7035  2019  201901  1405932  2019000293128  123.0  2019014059321        55   \n",
      "7036  2019  201901  1413819  2019000743427  101.0  2019014138191        55   \n",
      "7037  2019  201901  1418721  2019001023584  143.0  2019014187211        55   \n",
      "\n",
      "       PUMA  METRO   STRATA  ...  WKSWORK2  UHRSWORK   INCTOT  INCWAGE  \\\n",
      "0      2400      3   240001  ...         5        30    63000    63000   \n",
      "1      2400      3   240001  ...         0         0        0        0   \n",
      "2      2400      3   240001  ...         0         0       60        0   \n",
      "3      1300      4   130001  ...         4        18    13000    13000   \n",
      "4      1300      4   130001  ...         3         8     2000     2000   \n",
      "...     ...    ...      ...  ...       ...       ...      ...      ...   \n",
      "7033   1301      0   130155  ...         6        45    35000        0   \n",
      "7034   1600      4   160055  ...         6        50    64000    42000   \n",
      "7035    900      4    90055  ...         0         0        0        0   \n",
      "7036  41005      2  4100555  ...         0         0  9999999   999999   \n",
      "7037    102      4    10255  ...         6        40    81000    81000   \n",
      "\n",
      "      wkswork2_0  uhrswork0  incwage0    inctot0       wage   logwage  \n",
      "0           48.5       30.0   63000.0    63000.0  43.298969  3.768129  \n",
      "1            NaN        NaN       0.0        0.0        NaN       NaN  \n",
      "2            NaN        NaN       0.0       60.0        NaN       NaN  \n",
      "3           43.5       18.0   13000.0    13000.0  16.602810  2.809572  \n",
      "4           33.0        8.0    2000.0     2000.0   7.575758  2.024953  \n",
      "...          ...        ...       ...        ...        ...       ...  \n",
      "7033        51.0       45.0       0.0    35000.0   0.000000      -inf  \n",
      "7034        51.0       50.0   42000.0    64000.0  16.470588  2.801576  \n",
      "7035         NaN        NaN       0.0        0.0        NaN       NaN  \n",
      "7036         NaN        NaN       NaN  9999999.0        NaN       NaN  \n",
      "7037        51.0       40.0   81000.0    81000.0  39.705882  3.681499  \n",
      "\n",
      "[7038 rows x 52 columns]\n"
     ]
    },
    {
     "name": "stderr",
     "output_type": "stream",
     "text": [
      "/srv/conda/lib/python3.9/site-packages/pandas/core/arraylike.py:399: RuntimeWarning: divide by zero encountered in log\n",
      "  result = getattr(ufunc, method)(*inputs, **kwargs)\n"
     ]
    }
   ],
   "source": [
    "# Generate logwage\n",
    "df['logwage'] = np.log(df['wage'])\n",
    "\n",
    "print(df)"
   ]
  },
  {
   "cell_type": "code",
   "execution_count": 8,
   "id": "6842fcb4-1db6-4db8-b964-736fbfaec5fe",
   "metadata": {},
   "outputs": [
    {
     "name": "stderr",
     "output_type": "stream",
     "text": [
      "/tmp/ipykernel_174/579942814.py:2: FutureWarning: A value is trying to be set on a copy of a DataFrame or Series through chained assignment using an inplace method.\n",
      "The behavior will change in pandas 3.0. This inplace method will never work because the intermediate object on which we are setting values always behaves as a copy.\n",
      "\n",
      "For example, when doing 'df[col].method(value, inplace=True)', try using 'df.method({col: value}, inplace=True)' or df[col] = df[col].method(value) instead, to perform the operation inplace on the original object.\n",
      "\n",
      "\n",
      "  df['logwage'].replace([np.inf, -np.inf], np.nan, inplace=True)\n"
     ]
    }
   ],
   "source": [
    "# Handle NaN and infinity values in logwage\n",
    "df['logwage'].replace([np.inf, -np.inf], np.nan, inplace=True)"
   ]
  },
  {
   "cell_type": "code",
   "execution_count": null,
   "id": "6a7f9b9b-3f46-46ac-a4af-f3bb31b5fd92",
   "metadata": {},
   "outputs": [],
   "source": [
    "# Generate logincwage and loginctot\n",
    "df['logincwage'] = np.log(df['incwage0'])\n",
    "df['loginctot'] = np.log(df['inctot0'])\n"
   ]
  },
  {
   "cell_type": "code",
   "execution_count": 9,
   "id": "6bff105a-1bb7-4896-9a86-00fb3df2281b",
   "metadata": {},
   "outputs": [
    {
     "name": "stdout",
     "output_type": "stream",
     "text": [
      "                            OLS Regression Results                            \n",
      "==============================================================================\n",
      "Dep. Variable:                logwage   R-squared:                       0.010\n",
      "Model:                            OLS   Adj. R-squared:                  0.010\n",
      "Method:                 Least Squares   F-statistic:                     15.30\n",
      "Date:                Sun, 17 Mar 2024   Prob (F-statistic):           6.65e-10\n",
      "Time:                        19:16:03   Log-Likelihood:                -5795.3\n",
      "No. Observations:                4343   AIC:                         1.160e+04\n",
      "Df Residuals:                    4339   BIC:                         1.162e+04\n",
      "Df Model:                           3                                         \n",
      "Covariance Type:            nonrobust                                         \n",
      "================================================================================\n",
      "                   coef    std err          t      P>|t|      [0.025      0.975]\n",
      "--------------------------------------------------------------------------------\n",
      "const            3.0591      0.033     94.113      0.000       2.995       3.123\n",
      "race_chinese     0.1884      0.038      4.997      0.000       0.115       0.262\n",
      "race_indian      0.3242      0.059      5.507      0.000       0.209       0.440\n",
      "race_other       0.0588      0.045      1.308      0.191      -0.029       0.147\n",
      "==============================================================================\n",
      "Omnibus:                      121.374   Durbin-Watson:                   1.760\n",
      "Prob(Omnibus):                  0.000   Jarque-Bera (JB):              156.909\n",
      "Skew:                          -0.330   Prob(JB):                     8.46e-35\n",
      "Kurtosis:                       3.658   Cond. No.                         6.17\n",
      "==============================================================================\n",
      "\n",
      "Notes:\n",
      "[1] Standard Errors assume that the covariance matrix of the errors is correctly specified.\n"
     ]
    }
   ],
   "source": [
    "#X = df[['race_chinese', 'race_indian', 'race_other']]\n",
    "#X = sm.add_constant(X)  \n",
    "#y = df['logwage']\n",
    "\n",
    "model = sm.OLS(df['logwage'], \n",
    "               sm.add_constant(df[['race_chinese', 'race_indian', 'race_other']]), \n",
    "               missing='drop').fit()\n",
    "\n",
    "print(model.summary())"
   ]
  },
  {
   "cell_type": "code",
   "execution_count": 23,
   "id": "0b1c6cd1-30be-4ab9-8dd8-36b6c40ff2ce",
   "metadata": {},
   "outputs": [
    {
     "name": "stderr",
     "output_type": "stream",
     "text": [
      "/tmp/ipykernel_119/3454163403.py:29: FutureWarning: Downcasting behavior in `replace` is deprecated and will be removed in a future version. To retain the old behavior, explicitly call `result.infer_objects(copy=False)`. To opt-in to the future behavior, set `pd.set_option('future.no_silent_downcasting', True)`\n",
      "  df['wage'] = df['wage'].replace([np.inf, -np.inf], np.nan)  # Replace infinity values with NaN\n",
      "/tmp/ipykernel_119/3454163403.py:35: FutureWarning: A value is trying to be set on a copy of a DataFrame or Series through chained assignment using an inplace method.\n",
      "The behavior will change in pandas 3.0. This inplace method will never work because the intermediate object on which we are setting values always behaves as a copy.\n",
      "\n",
      "For example, when doing 'df[col].method(value, inplace=True)', try using 'df.method({col: value}, inplace=True)' or df[col] = df[col].method(value) instead, to perform the operation inplace on the original object.\n",
      "\n",
      "\n",
      "  df['logwage'].replace([np.inf, -np.inf], np.nan, inplace=True)\n",
      "/srv/conda/lib/python3.9/site-packages/pandas/core/arraylike.py:399: RuntimeWarning: divide by zero encountered in log\n",
      "  result = getattr(ufunc, method)(*inputs, **kwargs)\n",
      "/srv/conda/lib/python3.9/site-packages/pandas/core/arraylike.py:399: RuntimeWarning: invalid value encountered in log\n",
      "  result = getattr(ufunc, method)(*inputs, **kwargs)\n"
     ]
    }
   ],
   "source": [
    "# Generate wkswork2_0\n",
    "df['wkswork2_0'] = np.nan\n",
    "df.loc[df['wkswork2'] == 1, 'wkswork2_0'] = 7\n",
    "df.loc[df['wkswork2'] == 2, 'wkswork2_0'] = 20\n",
    "df.loc[df['wkswork2'] == 3, 'wkswork2_0'] = 33\n",
    "df.loc[df['wkswork2'] == 4, 'wkswork2_0'] = 43.5\n",
    "df.loc[df['wkswork2'] == 5, 'wkswork2_0'] = 48.5\n",
    "df.loc[df['wkswork2'] == 6, 'wkswork2_0'] = 51\n",
    "\n",
    "# Generate uhrswork0\n",
    "df['uhrswork0'] = df['uhrswork']\n",
    "df.loc[df['uhrswork'] == 0, 'uhrswork0'] = np.nan\n",
    "\n",
    "# Generate incwage0\n",
    "df['incwage0'] = df['incwage']\n",
    "df.loc[df['incwage'] == 999999, 'incwage0'] = np.nan\n",
    "df.loc[df['incwage'] == 999998, 'incwage0'] = np.nan\n",
    "\n",
    "# Generate inctot0\n",
    "df['inctot0'] = df['inctot']\n",
    "df.loc[df['inctot'] == 999999, 'inctot0'] = np.nan\n",
    "df.loc[df['inctot'] == 999998, 'inctot0'] = np.nan\n",
    "\n",
    "# Handle NaN and infinity values\n",
    "df.replace([np.inf, -np.inf], np.nan, inplace=True)\n",
    "\n",
    "# Handle invalid wage values (e.g., division by zero)\n",
    "df['wage'] = df['incwage0'] / df['wkswork2_0'] / df['uhrswork']\n",
    "df['wage'] = df['wage'].replace([np.inf, -np.inf], np.nan)  # Replace infinity values with NaN\n",
    "\n",
    "# Generate logwage\n",
    "df['logwage'] = np.log(df['wage'])\n",
    "\n",
    "# Handle NaN and infinity values in logwage\n",
    "df['logwage'].replace([np.inf, -np.inf], np.nan, inplace=True)\n",
    "\n",
    "# Generate logincwage and loginctot\n",
    "df['logincwage'] = np.log(df['incwage0'])\n",
    "df['loginctot'] = np.log(df['inctot0'])\n",
    "\n",
    "\n",
    "# Now you can proceed with further analysis using the 'logwage' column"
   ]
  },
  {
   "cell_type": "code",
   "execution_count": 15,
   "id": "6dd4aae6-78f1-4467-82ec-b9393bf26f92",
   "metadata": {},
   "outputs": [
    {
     "ename": "KeyError",
     "evalue": "'logwage'",
     "output_type": "error",
     "traceback": [
      "\u001b[0;31m---------------------------------------------------------------------------\u001b[0m",
      "\u001b[0;31mKeyError\u001b[0m                                  Traceback (most recent call last)",
      "File \u001b[0;32m/srv/conda/lib/python3.9/site-packages/pandas/core/indexes/base.py:3805\u001b[0m, in \u001b[0;36mIndex.get_loc\u001b[0;34m(self, key)\u001b[0m\n\u001b[1;32m   3804\u001b[0m \u001b[38;5;28;01mtry\u001b[39;00m:\n\u001b[0;32m-> 3805\u001b[0m     \u001b[38;5;28;01mreturn\u001b[39;00m \u001b[38;5;28;43mself\u001b[39;49m\u001b[38;5;241;43m.\u001b[39;49m\u001b[43m_engine\u001b[49m\u001b[38;5;241;43m.\u001b[39;49m\u001b[43mget_loc\u001b[49m\u001b[43m(\u001b[49m\u001b[43mcasted_key\u001b[49m\u001b[43m)\u001b[49m\n\u001b[1;32m   3806\u001b[0m \u001b[38;5;28;01mexcept\u001b[39;00m \u001b[38;5;167;01mKeyError\u001b[39;00m \u001b[38;5;28;01mas\u001b[39;00m err:\n",
      "File \u001b[0;32mindex.pyx:167\u001b[0m, in \u001b[0;36mpandas._libs.index.IndexEngine.get_loc\u001b[0;34m()\u001b[0m\n",
      "File \u001b[0;32mindex.pyx:196\u001b[0m, in \u001b[0;36mpandas._libs.index.IndexEngine.get_loc\u001b[0;34m()\u001b[0m\n",
      "File \u001b[0;32mpandas/_libs/hashtable_class_helper.pxi:7081\u001b[0m, in \u001b[0;36mpandas._libs.hashtable.PyObjectHashTable.get_item\u001b[0;34m()\u001b[0m\n",
      "File \u001b[0;32mpandas/_libs/hashtable_class_helper.pxi:7089\u001b[0m, in \u001b[0;36mpandas._libs.hashtable.PyObjectHashTable.get_item\u001b[0;34m()\u001b[0m\n",
      "\u001b[0;31mKeyError\u001b[0m: 'logwage'",
      "\nThe above exception was the direct cause of the following exception:\n",
      "\u001b[0;31mKeyError\u001b[0m                                  Traceback (most recent call last)",
      "Cell \u001b[0;32mIn[15], line 1\u001b[0m\n\u001b[0;32m----> 1\u001b[0m \u001b[38;5;28mprint\u001b[39m(\u001b[43mdf\u001b[49m\u001b[43m[\u001b[49m\u001b[38;5;124;43m'\u001b[39;49m\u001b[38;5;124;43mlogwage\u001b[39;49m\u001b[38;5;124;43m'\u001b[39;49m\u001b[43m]\u001b[49m)\n",
      "File \u001b[0;32m/srv/conda/lib/python3.9/site-packages/pandas/core/frame.py:4090\u001b[0m, in \u001b[0;36mDataFrame.__getitem__\u001b[0;34m(self, key)\u001b[0m\n\u001b[1;32m   4088\u001b[0m \u001b[38;5;28;01mif\u001b[39;00m \u001b[38;5;28mself\u001b[39m\u001b[38;5;241m.\u001b[39mcolumns\u001b[38;5;241m.\u001b[39mnlevels \u001b[38;5;241m>\u001b[39m \u001b[38;5;241m1\u001b[39m:\n\u001b[1;32m   4089\u001b[0m     \u001b[38;5;28;01mreturn\u001b[39;00m \u001b[38;5;28mself\u001b[39m\u001b[38;5;241m.\u001b[39m_getitem_multilevel(key)\n\u001b[0;32m-> 4090\u001b[0m indexer \u001b[38;5;241m=\u001b[39m \u001b[38;5;28;43mself\u001b[39;49m\u001b[38;5;241;43m.\u001b[39;49m\u001b[43mcolumns\u001b[49m\u001b[38;5;241;43m.\u001b[39;49m\u001b[43mget_loc\u001b[49m\u001b[43m(\u001b[49m\u001b[43mkey\u001b[49m\u001b[43m)\u001b[49m\n\u001b[1;32m   4091\u001b[0m \u001b[38;5;28;01mif\u001b[39;00m is_integer(indexer):\n\u001b[1;32m   4092\u001b[0m     indexer \u001b[38;5;241m=\u001b[39m [indexer]\n",
      "File \u001b[0;32m/srv/conda/lib/python3.9/site-packages/pandas/core/indexes/base.py:3812\u001b[0m, in \u001b[0;36mIndex.get_loc\u001b[0;34m(self, key)\u001b[0m\n\u001b[1;32m   3807\u001b[0m     \u001b[38;5;28;01mif\u001b[39;00m \u001b[38;5;28misinstance\u001b[39m(casted_key, \u001b[38;5;28mslice\u001b[39m) \u001b[38;5;129;01mor\u001b[39;00m (\n\u001b[1;32m   3808\u001b[0m         \u001b[38;5;28misinstance\u001b[39m(casted_key, abc\u001b[38;5;241m.\u001b[39mIterable)\n\u001b[1;32m   3809\u001b[0m         \u001b[38;5;129;01mand\u001b[39;00m \u001b[38;5;28many\u001b[39m(\u001b[38;5;28misinstance\u001b[39m(x, \u001b[38;5;28mslice\u001b[39m) \u001b[38;5;28;01mfor\u001b[39;00m x \u001b[38;5;129;01min\u001b[39;00m casted_key)\n\u001b[1;32m   3810\u001b[0m     ):\n\u001b[1;32m   3811\u001b[0m         \u001b[38;5;28;01mraise\u001b[39;00m InvalidIndexError(key)\n\u001b[0;32m-> 3812\u001b[0m     \u001b[38;5;28;01mraise\u001b[39;00m \u001b[38;5;167;01mKeyError\u001b[39;00m(key) \u001b[38;5;28;01mfrom\u001b[39;00m \u001b[38;5;21;01merr\u001b[39;00m\n\u001b[1;32m   3813\u001b[0m \u001b[38;5;28;01mexcept\u001b[39;00m \u001b[38;5;167;01mTypeError\u001b[39;00m:\n\u001b[1;32m   3814\u001b[0m     \u001b[38;5;66;03m# If we have a listlike key, _check_indexing_error will raise\u001b[39;00m\n\u001b[1;32m   3815\u001b[0m     \u001b[38;5;66;03m#  InvalidIndexError. Otherwise we fall through and re-raise\u001b[39;00m\n\u001b[1;32m   3816\u001b[0m     \u001b[38;5;66;03m#  the TypeError.\u001b[39;00m\n\u001b[1;32m   3817\u001b[0m     \u001b[38;5;28mself\u001b[39m\u001b[38;5;241m.\u001b[39m_check_indexing_error(key)\n",
      "\u001b[0;31mKeyError\u001b[0m: 'logwage'"
     ]
    }
   ],
   "source": [
    "print(df['logwage'])"
   ]
  },
  {
   "cell_type": "code",
   "execution_count": 3,
   "id": "8ce5b050-07ee-498c-8a86-b6e5f754e125",
   "metadata": {},
   "outputs": [
    {
     "name": "stdout",
     "output_type": "stream",
     "text": [
      "RACED\n",
      "400    3523\n",
      "667    1291\n",
      "610     511\n",
      "676     361\n",
      "100     297\n",
      "       ... \n",
      "642       1\n",
      "922       1\n",
      "854       1\n",
      "920       1\n",
      "833       1\n",
      "Name: count, Length: 61, dtype: int64\n"
     ]
    }
   ],
   "source": [
    "category_raced= df['RACED'].value_counts()\n",
    "print(category_raced)"
   ]
  },
  {
   "cell_type": "code",
   "execution_count": 4,
   "id": "bf7e8dd6-c6df-4a73-b7d0-a3b9d3ccc13f",
   "metadata": {},
   "outputs": [
    {
     "data": {
      "text/plain": [
       "RACED\n",
       "400    3523\n",
       "667    1291\n",
       "610     511\n",
       "676     361\n",
       "100     297\n",
       "665     268\n",
       "640     182\n",
       "671      90\n",
       "600      65\n",
       "620      39\n",
       "Name: count, dtype: int64"
      ]
     },
     "execution_count": 4,
     "metadata": {},
     "output_type": "execute_result"
    }
   ],
   "source": [
    "category_raced.head(10)"
   ]
  },
  {
   "cell_type": "code",
   "execution_count": 5,
   "id": "3b2b8c6e-9330-4135-bc6a-dc1bfa4b47b7",
   "metadata": {},
   "outputs": [
    {
     "name": "stdout",
     "output_type": "stream",
     "text": [
      "0         Other\n",
      "1         Other\n",
      "2         Other\n",
      "3         Malay\n",
      "4         Malay\n",
      "         ...   \n",
      "7033    Chinese\n",
      "7034      Malay\n",
      "7035      Other\n",
      "7036      Other\n",
      "7037      Malay\n",
      "Name: RACED_NEW, Length: 7038, dtype: object\n"
     ]
    }
   ],
   "source": [
    "df['RACED'] = df['RACED'].astype(str)  # Convert to string in case it's not already\n",
    "\n",
    "# Convert numerical codes to categorical values (you may need a mapping dictionary)\n",
    "# Replace 'mapping_dict' with the actual mapping dictionary for numerical codes to categories\n",
    "mapping_dict = {'400': 'Chinese', '610': 'Indian','667': 'Malay'}\n",
    "df['RACED_NEW'] = df['RACED'].map(mapping_dict).fillna('Other')\n",
    "\n",
    "print(df['RACED_NEW'])"
   ]
  },
  {
   "cell_type": "code",
   "execution_count": 6,
   "id": "b74a4de7-b142-40ca-9233-95f87dd61151",
   "metadata": {},
   "outputs": [
    {
     "name": "stdout",
     "output_type": "stream",
     "text": [
      "      YEAR  SAMPLE   SERIAL       CBSERIAL   HHWT        CLUSTER   STRATA  GQ  \\\n",
      "0     2010  201001     7876         488424   90.0  2010000078761   240001   1   \n",
      "1     2010  201001     7876         488424   90.0  2010000078761   240001   1   \n",
      "2     2010  201001     7876         488424   90.0  2010000078761   240001   1   \n",
      "3     2010  201001    22464        1388149  107.0  2010000224641   130001   1   \n",
      "4     2010  201001    22464        1388149  107.0  2010000224641   130001   1   \n",
      "...    ...     ...      ...            ...    ...            ...      ...  ..   \n",
      "7033  2019  201901  1403102  2019000128243   37.0  2019014031021   130155   1   \n",
      "7034  2019  201901  1404137  2019000186916   46.0  2019014041371   160055   1   \n",
      "7035  2019  201901  1405932  2019000293128  123.0  2019014059321    90055   1   \n",
      "7036  2019  201901  1413819  2019000743427  101.0  2019014138191  4100555   1   \n",
      "7037  2019  201901  1418721  2019001023584  143.0  2019014187211    10255   1   \n",
      "\n",
      "      PERNUM  PERWT  ...  LABFORCE   OCC   IND   INCTOT  INCWAGE MIGPLAC1  \\\n",
      "0          1   90.0  ...         2  1530  6070    63000    63000        0   \n",
      "1          2   94.0  ...         2  1460  3080        0        0        0   \n",
      "2          3  182.0  ...         1  4010  8680       60        0        0   \n",
      "3          1  107.0  ...         2  9130  8680    13000    13000        0   \n",
      "4          2  250.0  ...         2  4110  8680     2000     2000        0   \n",
      "...      ...    ...  ...       ...   ...   ...      ...      ...      ...   \n",
      "7033       2   43.0  ...         2  4700  5580    35000        0        0   \n",
      "7034       1   46.0  ...         2  4000  8680    64000    42000        0   \n",
      "7035       2  140.0  ...         1     0     0        0        0        0   \n",
      "7036       7  123.0  ...         0     0     0  9999999   999999        0   \n",
      "7037       1  143.0  ...         2  1530  1080    81000    81000       32   \n",
      "\n",
      "      RACED_NEW  RACE_Other  RACE_Indian  RACE_Chinese  \n",
      "0         Other           1            0             0  \n",
      "1         Other           1            0             0  \n",
      "2         Other           1            0             0  \n",
      "3         Malay           0            0             0  \n",
      "4         Malay           0            0             0  \n",
      "...         ...         ...          ...           ...  \n",
      "7033    Chinese           0            0             1  \n",
      "7034      Malay           0            0             0  \n",
      "7035      Other           1            0             0  \n",
      "7036      Other           1            0             0  \n",
      "7037      Malay           0            0             0  \n",
      "\n",
      "[7038 rows x 44 columns]\n"
     ]
    }
   ],
   "source": [
    "df['RACED_NEW'] = df['RACED_NEW'].astype(str)\n",
    "\n",
    "desired_reference_category = 'Malay'\n",
    "\n",
    "# Move the desired reference category to the front of the unique values\n",
    "unique_values = df['RACED_NEW'].unique()\n",
    "new_order = [desired_reference_category] + [value for value in unique_values if value != desired_reference_category]\n",
    "\n",
    "# Update the DataFrame with the reordered category\n",
    "df['RACED_NEW'] = pd.Categorical(df['RACED_NEW'], categories=new_order, ordered=True)\n",
    "\n",
    "# Create dummy variables with drop_first=True\n",
    "df_dummies= pd.get_dummies(df['RACED_NEW'], prefix='RACE', drop_first=True)\n",
    "\n",
    "df_dummies['RACE_Other'] = df_dummies['RACE_Other'].astype(int)\n",
    "df_dummies['RACE_Indian'] = df_dummies['RACE_Indian'].astype(int)\n",
    "df_dummies['RACE_Chinese'] = df_dummies['RACE_Chinese'].astype(int)\n",
    "\n",
    "df = pd.concat([df, df_dummies], axis=1)\n",
    "\n",
    "print(df)"
   ]
  },
  {
   "cell_type": "code",
   "execution_count": 7,
   "id": "c5229829-d1e3-41c6-837d-2885859f09a3",
   "metadata": {},
   "outputs": [
    {
     "name": "stdout",
     "output_type": "stream",
     "text": [
      "                            OLS Regression Results                            \n",
      "==============================================================================\n",
      "Dep. Variable:                 INCTOT   R-squared:                       0.130\n",
      "Model:                            OLS   Adj. R-squared:                  0.130\n",
      "Method:                 Least Squares   F-statistic:                     351.3\n",
      "Date:                Sat, 09 Mar 2024   Prob (F-statistic):          1.38e-212\n",
      "Time:                        07:44:43   Log-Likelihood:            -1.1369e+05\n",
      "No. Observations:                7038   AIC:                         2.274e+05\n",
      "Df Residuals:                    7034   BIC:                         2.274e+05\n",
      "Df Model:                           3                                         \n",
      "Covariance Type:            nonrobust                                         \n",
      "================================================================================\n",
      "                   coef    std err          t      P>|t|      [0.025      0.975]\n",
      "--------------------------------------------------------------------------------\n",
      "const         5.218e+05   6.98e+04      7.477      0.000    3.85e+05    6.59e+05\n",
      "RACE_Chinese -3.195e+05   8.16e+04     -3.916      0.000   -4.79e+05    -1.6e+05\n",
      "RACE_Indian   -1.36e+05   1.31e+05     -1.038      0.299   -3.93e+05    1.21e+05\n",
      "RACE_Other    2.019e+06   9.24e+04     21.851      0.000    1.84e+06     2.2e+06\n",
      "==============================================================================\n",
      "Omnibus:                     3493.179   Durbin-Watson:                   1.462\n",
      "Prob(Omnibus):                  0.000   Jarque-Bera (JB):            17453.976\n",
      "Skew:                           2.462   Prob(JB):                         0.00\n",
      "Kurtosis:                       8.940   Cond. No.                         6.19\n",
      "==============================================================================\n",
      "\n",
      "Notes:\n",
      "[1] Standard Errors assume that the covariance matrix of the errors is correctly specified.\n"
     ]
    }
   ],
   "source": [
    "X = df[['RACE_Chinese', 'RACE_Indian', 'RACE_Other']]\n",
    "X = sm.add_constant(X)  \n",
    "y = df['INCTOT']\n",
    "\n",
    "model = sm.OLS(y, X).fit()\n",
    "\n",
    "print(model.summary())"
   ]
  },
  {
   "cell_type": "code",
   "execution_count": 8,
   "id": "bbd238cc-357e-4992-99a0-be1072ec1bac",
   "metadata": {},
   "outputs": [
    {
     "name": "stdout",
     "output_type": "stream",
     "text": [
      "0       11.050890\n",
      "1      -23.025851\n",
      "2        4.094345\n",
      "3        9.472705\n",
      "4        7.600902\n",
      "          ...    \n",
      "7033    10.463103\n",
      "7034    11.066638\n",
      "7035   -23.025851\n",
      "7036    16.118096\n",
      "7037    11.302204\n",
      "Name: log_inctot, Length: 7038, dtype: float64\n"
     ]
    },
    {
     "name": "stderr",
     "output_type": "stream",
     "text": [
      "/srv/conda/lib/python3.9/site-packages/pandas/core/arraylike.py:399: RuntimeWarning: invalid value encountered in log\n",
      "  result = getattr(ufunc, method)(*inputs, **kwargs)\n"
     ]
    }
   ],
   "source": [
    "import numpy as np\n",
    "\n",
    "df['log_inctot'] = np.log(df['INCTOT'] + 1e-10)\n",
    "print(df['log_inctot'])\n"
   ]
  },
  {
   "cell_type": "code",
   "execution_count": 9,
   "id": "ebb07630-5467-4a72-b3c3-c1bd6df6447b",
   "metadata": {},
   "outputs": [
    {
     "name": "stdout",
     "output_type": "stream",
     "text": [
      "0         63000\n",
      "1             0\n",
      "2            60\n",
      "3         13000\n",
      "4          2000\n",
      "         ...   \n",
      "7033      35000\n",
      "7034      64000\n",
      "7035          0\n",
      "7036    9999999\n",
      "7037      81000\n",
      "Name: INCTOT, Length: 7038, dtype: int64\n"
     ]
    }
   ],
   "source": [
    "print(df['INCTOT'])"
   ]
  },
  {
   "cell_type": "code",
   "execution_count": 50,
   "id": "a0c648d8-2682-4311-bd2b-9702a7c716d2",
   "metadata": {},
   "outputs": [
    {
     "name": "stdout",
     "output_type": "stream",
     "text": [
      "0        11.05089\n",
      "1            <NA>\n",
      "2        4.094345\n",
      "3        9.472705\n",
      "4        7.600902\n",
      "          ...    \n",
      "7033    10.463103\n",
      "7034    11.066638\n",
      "7035         <NA>\n",
      "7036    16.118096\n",
      "7037    11.302204\n",
      "Name: loginctot0, Length: 7032, dtype: object\n"
     ]
    }
   ],
   "source": [
    "df['inctot0'] = df['INCTOT'].replace(999999, pd.NA)\n",
    "df['inctot0'] = df['INCTOT'].replace(999998, pd.NA)\n",
    "df['loginctot0'] = np.log(df['inctot0'])\n",
    "df['loginctot0'] = df['loginctot0'].replace(-np.inf, pd.NA)\n",
    "print(df['loginctot0'])"
   ]
  },
  {
   "cell_type": "code",
   "execution_count": 53,
   "id": "ef8c0ba8-949e-4e84-b6ea-111508c509b7",
   "metadata": {},
   "outputs": [],
   "source": [
    "df2 = df.dropna(subset=['loginctot0', 'log_inctot', 'RACE_Chinese', 'RACE_Indian', 'RACE_Other'])"
   ]
  },
  {
   "cell_type": "code",
   "execution_count": 57,
   "id": "1411d4ec-22ac-41a4-a32d-a36a65bc9c8d",
   "metadata": {},
   "outputs": [
    {
     "ename": "ValueError",
     "evalue": "Pandas data cast to numpy dtype of object. Check input data with np.asarray(data). The types seen wereNone and const           float64\nRACE_Chinese      int64\nRACE_Indian       int64\nRACE_Other        int64\ndtype: object. The data was\n0        11.05089\n2        4.094345\n3        9.472705\n4        7.600902\n5       11.759786\n          ...    \n7032    16.118096\n7033    10.463103\n7034    11.066638\n7036    16.118096\n7037    11.302204\nName: loginctot0, Length: 5861, dtype: object\nand\n       const  RACE_Chinese  RACE_Indian  RACE_Other\n0       1.0             0            0           1\n2       1.0             0            0           1\n3       1.0             0            0           0\n4       1.0             0            0           0\n5       1.0             0            1           0\n...     ...           ...          ...         ...\n7032    1.0             0            0           1\n7033    1.0             1            0           0\n7034    1.0             0            0           0\n7036    1.0             0            0           1\n7037    1.0             0            0           0\n\n[5861 rows x 4 columns]\nbefore. After,\n[11.050890005373669 4.0943445622221 9.472704636443673 ...\n 11.06663836234181 16.118095550958316 11.302204433654575]\n[[1. 0. 0. 1.]\n [1. 0. 0. 1.]\n [1. 0. 0. 0.]\n ...\n [1. 0. 0. 0.]\n [1. 0. 0. 1.]\n [1. 0. 0. 0.]].",
     "output_type": "error",
     "traceback": [
      "\u001b[0;31m---------------------------------------------------------------------------\u001b[0m",
      "\u001b[0;31mValueError\u001b[0m                                Traceback (most recent call last)",
      "Cell \u001b[0;32mIn[57], line 5\u001b[0m\n\u001b[1;32m      2\u001b[0m X \u001b[38;5;241m=\u001b[39m sm\u001b[38;5;241m.\u001b[39madd_constant(X)  \n\u001b[1;32m      3\u001b[0m y \u001b[38;5;241m=\u001b[39m df2[\u001b[38;5;124m'\u001b[39m\u001b[38;5;124mloginctot0\u001b[39m\u001b[38;5;124m'\u001b[39m]\n\u001b[0;32m----> 5\u001b[0m model \u001b[38;5;241m=\u001b[39m \u001b[43msm\u001b[49m\u001b[38;5;241;43m.\u001b[39;49m\u001b[43mOLS\u001b[49m\u001b[43m(\u001b[49m\u001b[43my\u001b[49m\u001b[43m,\u001b[49m\u001b[43m \u001b[49m\u001b[43mX\u001b[49m\u001b[43m,\u001b[49m\u001b[43m \u001b[49m\u001b[43mmissing\u001b[49m\u001b[38;5;241;43m=\u001b[39;49m\u001b[38;5;124;43m'\u001b[39;49m\u001b[38;5;124;43mdrop\u001b[39;49m\u001b[38;5;124;43m'\u001b[39;49m\u001b[43m)\u001b[49m\u001b[38;5;241m.\u001b[39mfit()\n\u001b[1;32m      7\u001b[0m \u001b[38;5;28mprint\u001b[39m(model\u001b[38;5;241m.\u001b[39msummary())\n",
      "File \u001b[0;32m/srv/conda/lib/python3.9/site-packages/statsmodels/regression/linear_model.py:906\u001b[0m, in \u001b[0;36mOLS.__init__\u001b[0;34m(self, endog, exog, missing, hasconst, **kwargs)\u001b[0m\n\u001b[1;32m    903\u001b[0m     msg \u001b[38;5;241m=\u001b[39m (\u001b[38;5;124m\"\u001b[39m\u001b[38;5;124mWeights are not supported in OLS and will be ignored\u001b[39m\u001b[38;5;124m\"\u001b[39m\n\u001b[1;32m    904\u001b[0m            \u001b[38;5;124m\"\u001b[39m\u001b[38;5;124mAn exception will be raised in the next version.\u001b[39m\u001b[38;5;124m\"\u001b[39m)\n\u001b[1;32m    905\u001b[0m     warnings\u001b[38;5;241m.\u001b[39mwarn(msg, ValueWarning)\n\u001b[0;32m--> 906\u001b[0m \u001b[38;5;28;43msuper\u001b[39;49m\u001b[43m(\u001b[49m\u001b[43mOLS\u001b[49m\u001b[43m,\u001b[49m\u001b[43m \u001b[49m\u001b[38;5;28;43mself\u001b[39;49m\u001b[43m)\u001b[49m\u001b[38;5;241;43m.\u001b[39;49m\u001b[38;5;21;43m__init__\u001b[39;49m\u001b[43m(\u001b[49m\u001b[43mendog\u001b[49m\u001b[43m,\u001b[49m\u001b[43m \u001b[49m\u001b[43mexog\u001b[49m\u001b[43m,\u001b[49m\u001b[43m \u001b[49m\u001b[43mmissing\u001b[49m\u001b[38;5;241;43m=\u001b[39;49m\u001b[43mmissing\u001b[49m\u001b[43m,\u001b[49m\n\u001b[1;32m    907\u001b[0m \u001b[43m                          \u001b[49m\u001b[43mhasconst\u001b[49m\u001b[38;5;241;43m=\u001b[39;49m\u001b[43mhasconst\u001b[49m\u001b[43m,\u001b[49m\u001b[43m \u001b[49m\u001b[38;5;241;43m*\u001b[39;49m\u001b[38;5;241;43m*\u001b[39;49m\u001b[43mkwargs\u001b[49m\u001b[43m)\u001b[49m\n\u001b[1;32m    908\u001b[0m \u001b[38;5;28;01mif\u001b[39;00m \u001b[38;5;124m\"\u001b[39m\u001b[38;5;124mweights\u001b[39m\u001b[38;5;124m\"\u001b[39m \u001b[38;5;129;01min\u001b[39;00m \u001b[38;5;28mself\u001b[39m\u001b[38;5;241m.\u001b[39m_init_keys:\n\u001b[1;32m    909\u001b[0m     \u001b[38;5;28mself\u001b[39m\u001b[38;5;241m.\u001b[39m_init_keys\u001b[38;5;241m.\u001b[39mremove(\u001b[38;5;124m\"\u001b[39m\u001b[38;5;124mweights\u001b[39m\u001b[38;5;124m\"\u001b[39m)\n",
      "File \u001b[0;32m/srv/conda/lib/python3.9/site-packages/statsmodels/regression/linear_model.py:733\u001b[0m, in \u001b[0;36mWLS.__init__\u001b[0;34m(self, endog, exog, weights, missing, hasconst, **kwargs)\u001b[0m\n\u001b[1;32m    731\u001b[0m \u001b[38;5;28;01melse\u001b[39;00m:\n\u001b[1;32m    732\u001b[0m     weights \u001b[38;5;241m=\u001b[39m weights\u001b[38;5;241m.\u001b[39msqueeze()\n\u001b[0;32m--> 733\u001b[0m \u001b[38;5;28;43msuper\u001b[39;49m\u001b[43m(\u001b[49m\u001b[43mWLS\u001b[49m\u001b[43m,\u001b[49m\u001b[43m \u001b[49m\u001b[38;5;28;43mself\u001b[39;49m\u001b[43m)\u001b[49m\u001b[38;5;241;43m.\u001b[39;49m\u001b[38;5;21;43m__init__\u001b[39;49m\u001b[43m(\u001b[49m\u001b[43mendog\u001b[49m\u001b[43m,\u001b[49m\u001b[43m \u001b[49m\u001b[43mexog\u001b[49m\u001b[43m,\u001b[49m\u001b[43m \u001b[49m\u001b[43mmissing\u001b[49m\u001b[38;5;241;43m=\u001b[39;49m\u001b[43mmissing\u001b[49m\u001b[43m,\u001b[49m\n\u001b[1;32m    734\u001b[0m \u001b[43m                          \u001b[49m\u001b[43mweights\u001b[49m\u001b[38;5;241;43m=\u001b[39;49m\u001b[43mweights\u001b[49m\u001b[43m,\u001b[49m\u001b[43m \u001b[49m\u001b[43mhasconst\u001b[49m\u001b[38;5;241;43m=\u001b[39;49m\u001b[43mhasconst\u001b[49m\u001b[43m,\u001b[49m\u001b[43m \u001b[49m\u001b[38;5;241;43m*\u001b[39;49m\u001b[38;5;241;43m*\u001b[39;49m\u001b[43mkwargs\u001b[49m\u001b[43m)\u001b[49m\n\u001b[1;32m    735\u001b[0m nobs \u001b[38;5;241m=\u001b[39m \u001b[38;5;28mself\u001b[39m\u001b[38;5;241m.\u001b[39mexog\u001b[38;5;241m.\u001b[39mshape[\u001b[38;5;241m0\u001b[39m]\n\u001b[1;32m    736\u001b[0m weights \u001b[38;5;241m=\u001b[39m \u001b[38;5;28mself\u001b[39m\u001b[38;5;241m.\u001b[39mweights\n",
      "File \u001b[0;32m/srv/conda/lib/python3.9/site-packages/statsmodels/regression/linear_model.py:190\u001b[0m, in \u001b[0;36mRegressionModel.__init__\u001b[0;34m(self, endog, exog, **kwargs)\u001b[0m\n\u001b[1;32m    189\u001b[0m \u001b[38;5;28;01mdef\u001b[39;00m \u001b[38;5;21m__init__\u001b[39m(\u001b[38;5;28mself\u001b[39m, endog, exog, \u001b[38;5;241m*\u001b[39m\u001b[38;5;241m*\u001b[39mkwargs):\n\u001b[0;32m--> 190\u001b[0m     \u001b[38;5;28;43msuper\u001b[39;49m\u001b[43m(\u001b[49m\u001b[43mRegressionModel\u001b[49m\u001b[43m,\u001b[49m\u001b[43m \u001b[49m\u001b[38;5;28;43mself\u001b[39;49m\u001b[43m)\u001b[49m\u001b[38;5;241;43m.\u001b[39;49m\u001b[38;5;21;43m__init__\u001b[39;49m\u001b[43m(\u001b[49m\u001b[43mendog\u001b[49m\u001b[43m,\u001b[49m\u001b[43m \u001b[49m\u001b[43mexog\u001b[49m\u001b[43m,\u001b[49m\u001b[43m \u001b[49m\u001b[38;5;241;43m*\u001b[39;49m\u001b[38;5;241;43m*\u001b[39;49m\u001b[43mkwargs\u001b[49m\u001b[43m)\u001b[49m\n\u001b[1;32m    191\u001b[0m     \u001b[38;5;28mself\u001b[39m\u001b[38;5;241m.\u001b[39m_data_attr\u001b[38;5;241m.\u001b[39mextend([\u001b[38;5;124m'\u001b[39m\u001b[38;5;124mpinv_wexog\u001b[39m\u001b[38;5;124m'\u001b[39m, \u001b[38;5;124m'\u001b[39m\u001b[38;5;124mwendog\u001b[39m\u001b[38;5;124m'\u001b[39m, \u001b[38;5;124m'\u001b[39m\u001b[38;5;124mwexog\u001b[39m\u001b[38;5;124m'\u001b[39m, \u001b[38;5;124m'\u001b[39m\u001b[38;5;124mweights\u001b[39m\u001b[38;5;124m'\u001b[39m])\n",
      "File \u001b[0;32m/srv/conda/lib/python3.9/site-packages/statsmodels/base/model.py:267\u001b[0m, in \u001b[0;36mLikelihoodModel.__init__\u001b[0;34m(self, endog, exog, **kwargs)\u001b[0m\n\u001b[1;32m    266\u001b[0m \u001b[38;5;28;01mdef\u001b[39;00m \u001b[38;5;21m__init__\u001b[39m(\u001b[38;5;28mself\u001b[39m, endog, exog\u001b[38;5;241m=\u001b[39m\u001b[38;5;28;01mNone\u001b[39;00m, \u001b[38;5;241m*\u001b[39m\u001b[38;5;241m*\u001b[39mkwargs):\n\u001b[0;32m--> 267\u001b[0m     \u001b[38;5;28;43msuper\u001b[39;49m\u001b[43m(\u001b[49m\u001b[43m)\u001b[49m\u001b[38;5;241;43m.\u001b[39;49m\u001b[38;5;21;43m__init__\u001b[39;49m\u001b[43m(\u001b[49m\u001b[43mendog\u001b[49m\u001b[43m,\u001b[49m\u001b[43m \u001b[49m\u001b[43mexog\u001b[49m\u001b[43m,\u001b[49m\u001b[43m \u001b[49m\u001b[38;5;241;43m*\u001b[39;49m\u001b[38;5;241;43m*\u001b[39;49m\u001b[43mkwargs\u001b[49m\u001b[43m)\u001b[49m\n\u001b[1;32m    268\u001b[0m     \u001b[38;5;28mself\u001b[39m\u001b[38;5;241m.\u001b[39minitialize()\n",
      "File \u001b[0;32m/srv/conda/lib/python3.9/site-packages/statsmodels/base/model.py:92\u001b[0m, in \u001b[0;36mModel.__init__\u001b[0;34m(self, endog, exog, **kwargs)\u001b[0m\n\u001b[1;32m     90\u001b[0m missing \u001b[38;5;241m=\u001b[39m kwargs\u001b[38;5;241m.\u001b[39mpop(\u001b[38;5;124m'\u001b[39m\u001b[38;5;124mmissing\u001b[39m\u001b[38;5;124m'\u001b[39m, \u001b[38;5;124m'\u001b[39m\u001b[38;5;124mnone\u001b[39m\u001b[38;5;124m'\u001b[39m)\n\u001b[1;32m     91\u001b[0m hasconst \u001b[38;5;241m=\u001b[39m kwargs\u001b[38;5;241m.\u001b[39mpop(\u001b[38;5;124m'\u001b[39m\u001b[38;5;124mhasconst\u001b[39m\u001b[38;5;124m'\u001b[39m, \u001b[38;5;28;01mNone\u001b[39;00m)\n\u001b[0;32m---> 92\u001b[0m \u001b[38;5;28mself\u001b[39m\u001b[38;5;241m.\u001b[39mdata \u001b[38;5;241m=\u001b[39m \u001b[38;5;28;43mself\u001b[39;49m\u001b[38;5;241;43m.\u001b[39;49m\u001b[43m_handle_data\u001b[49m\u001b[43m(\u001b[49m\u001b[43mendog\u001b[49m\u001b[43m,\u001b[49m\u001b[43m \u001b[49m\u001b[43mexog\u001b[49m\u001b[43m,\u001b[49m\u001b[43m \u001b[49m\u001b[43mmissing\u001b[49m\u001b[43m,\u001b[49m\u001b[43m \u001b[49m\u001b[43mhasconst\u001b[49m\u001b[43m,\u001b[49m\n\u001b[1;32m     93\u001b[0m \u001b[43m                              \u001b[49m\u001b[38;5;241;43m*\u001b[39;49m\u001b[38;5;241;43m*\u001b[39;49m\u001b[43mkwargs\u001b[49m\u001b[43m)\u001b[49m\n\u001b[1;32m     94\u001b[0m \u001b[38;5;28mself\u001b[39m\u001b[38;5;241m.\u001b[39mk_constant \u001b[38;5;241m=\u001b[39m \u001b[38;5;28mself\u001b[39m\u001b[38;5;241m.\u001b[39mdata\u001b[38;5;241m.\u001b[39mk_constant\n\u001b[1;32m     95\u001b[0m \u001b[38;5;28mself\u001b[39m\u001b[38;5;241m.\u001b[39mexog \u001b[38;5;241m=\u001b[39m \u001b[38;5;28mself\u001b[39m\u001b[38;5;241m.\u001b[39mdata\u001b[38;5;241m.\u001b[39mexog\n",
      "File \u001b[0;32m/srv/conda/lib/python3.9/site-packages/statsmodels/base/model.py:132\u001b[0m, in \u001b[0;36mModel._handle_data\u001b[0;34m(self, endog, exog, missing, hasconst, **kwargs)\u001b[0m\n\u001b[1;32m    131\u001b[0m \u001b[38;5;28;01mdef\u001b[39;00m \u001b[38;5;21m_handle_data\u001b[39m(\u001b[38;5;28mself\u001b[39m, endog, exog, missing, hasconst, \u001b[38;5;241m*\u001b[39m\u001b[38;5;241m*\u001b[39mkwargs):\n\u001b[0;32m--> 132\u001b[0m     data \u001b[38;5;241m=\u001b[39m \u001b[43mhandle_data\u001b[49m\u001b[43m(\u001b[49m\u001b[43mendog\u001b[49m\u001b[43m,\u001b[49m\u001b[43m \u001b[49m\u001b[43mexog\u001b[49m\u001b[43m,\u001b[49m\u001b[43m \u001b[49m\u001b[43mmissing\u001b[49m\u001b[43m,\u001b[49m\u001b[43m \u001b[49m\u001b[43mhasconst\u001b[49m\u001b[43m,\u001b[49m\u001b[43m \u001b[49m\u001b[38;5;241;43m*\u001b[39;49m\u001b[38;5;241;43m*\u001b[39;49m\u001b[43mkwargs\u001b[49m\u001b[43m)\u001b[49m\n\u001b[1;32m    133\u001b[0m     \u001b[38;5;66;03m# kwargs arrays could have changed, easier to just attach here\u001b[39;00m\n\u001b[1;32m    134\u001b[0m     \u001b[38;5;28;01mfor\u001b[39;00m key \u001b[38;5;129;01min\u001b[39;00m kwargs:\n",
      "File \u001b[0;32m/srv/conda/lib/python3.9/site-packages/statsmodels/base/data.py:700\u001b[0m, in \u001b[0;36mhandle_data\u001b[0;34m(endog, exog, missing, hasconst, **kwargs)\u001b[0m\n\u001b[1;32m    697\u001b[0m     exog \u001b[38;5;241m=\u001b[39m np\u001b[38;5;241m.\u001b[39masarray(exog)\n\u001b[1;32m    699\u001b[0m klass \u001b[38;5;241m=\u001b[39m handle_data_class_factory(endog, exog)\n\u001b[0;32m--> 700\u001b[0m \u001b[38;5;28;01mreturn\u001b[39;00m \u001b[43mklass\u001b[49m\u001b[43m(\u001b[49m\u001b[43mendog\u001b[49m\u001b[43m,\u001b[49m\u001b[43m \u001b[49m\u001b[43mexog\u001b[49m\u001b[38;5;241;43m=\u001b[39;49m\u001b[43mexog\u001b[49m\u001b[43m,\u001b[49m\u001b[43m \u001b[49m\u001b[43mmissing\u001b[49m\u001b[38;5;241;43m=\u001b[39;49m\u001b[43mmissing\u001b[49m\u001b[43m,\u001b[49m\u001b[43m \u001b[49m\u001b[43mhasconst\u001b[49m\u001b[38;5;241;43m=\u001b[39;49m\u001b[43mhasconst\u001b[49m\u001b[43m,\u001b[49m\n\u001b[1;32m    701\u001b[0m \u001b[43m             \u001b[49m\u001b[38;5;241;43m*\u001b[39;49m\u001b[38;5;241;43m*\u001b[39;49m\u001b[43mkwargs\u001b[49m\u001b[43m)\u001b[49m\n",
      "File \u001b[0;32m/srv/conda/lib/python3.9/site-packages/statsmodels/base/data.py:78\u001b[0m, in \u001b[0;36mModelData.__init__\u001b[0;34m(self, endog, exog, missing, hasconst, **kwargs)\u001b[0m\n\u001b[1;32m     76\u001b[0m     \u001b[38;5;28mself\u001b[39m\u001b[38;5;241m.\u001b[39morig_endog \u001b[38;5;241m=\u001b[39m \u001b[38;5;28mself\u001b[39m\u001b[38;5;241m.\u001b[39mendog\n\u001b[1;32m     77\u001b[0m     \u001b[38;5;28mself\u001b[39m\u001b[38;5;241m.\u001b[39morig_exog \u001b[38;5;241m=\u001b[39m \u001b[38;5;28mself\u001b[39m\u001b[38;5;241m.\u001b[39mexog\n\u001b[0;32m---> 78\u001b[0m     \u001b[38;5;28mself\u001b[39m\u001b[38;5;241m.\u001b[39mendog, \u001b[38;5;28mself\u001b[39m\u001b[38;5;241m.\u001b[39mexog \u001b[38;5;241m=\u001b[39m \u001b[38;5;28;43mself\u001b[39;49m\u001b[38;5;241;43m.\u001b[39;49m\u001b[43m_convert_endog_exog\u001b[49m\u001b[43m(\u001b[49m\u001b[38;5;28;43mself\u001b[39;49m\u001b[38;5;241;43m.\u001b[39;49m\u001b[43mendog\u001b[49m\u001b[43m,\u001b[49m\n\u001b[1;32m     79\u001b[0m \u001b[43m                                                     \u001b[49m\u001b[38;5;28;43mself\u001b[39;49m\u001b[38;5;241;43m.\u001b[39;49m\u001b[43mexog\u001b[49m\u001b[43m)\u001b[49m\n\u001b[1;32m     80\u001b[0m \u001b[38;5;28;01melse\u001b[39;00m:\n\u001b[1;32m     81\u001b[0m     \u001b[38;5;28mself\u001b[39m\u001b[38;5;241m.\u001b[39m\u001b[38;5;18m__dict__\u001b[39m\u001b[38;5;241m.\u001b[39mupdate(kwargs)  \u001b[38;5;66;03m# attach the extra arrays anyway\u001b[39;00m\n",
      "File \u001b[0;32m/srv/conda/lib/python3.9/site-packages/statsmodels/base/data.py:530\u001b[0m, in \u001b[0;36mPandasData._convert_endog_exog\u001b[0;34m(self, endog, exog)\u001b[0m\n\u001b[1;32m    528\u001b[0m     \u001b[38;5;28;01melse\u001b[39;00m:\n\u001b[1;32m    529\u001b[0m         exog_dtype \u001b[38;5;241m=\u001b[39m \u001b[38;5;28;01mNone\u001b[39;00m\n\u001b[0;32m--> 530\u001b[0m     \u001b[38;5;28;01mraise\u001b[39;00m \u001b[38;5;167;01mValueError\u001b[39;00m(\n\u001b[1;32m    531\u001b[0m         \u001b[38;5;124m\"\u001b[39m\u001b[38;5;124mPandas data cast to numpy dtype of object. Check input data \u001b[39m\u001b[38;5;124m\"\u001b[39m\n\u001b[1;32m    532\u001b[0m         \u001b[38;5;124m\"\u001b[39m\u001b[38;5;124mwith np.asarray(data). The types seen were\u001b[39m\u001b[38;5;124m\"\u001b[39m\n\u001b[1;32m    533\u001b[0m         \u001b[38;5;124mf\u001b[39m\u001b[38;5;124m\"\u001b[39m\u001b[38;5;132;01m{\u001b[39;00mendog_dtype\u001b[38;5;132;01m}\u001b[39;00m\u001b[38;5;124m and \u001b[39m\u001b[38;5;132;01m{\u001b[39;00mexog_dtype\u001b[38;5;132;01m}\u001b[39;00m\u001b[38;5;124m. The data was\u001b[39m\u001b[38;5;130;01m\\n\u001b[39;00m\u001b[38;5;124m\"\u001b[39m\n\u001b[1;32m    534\u001b[0m         \u001b[38;5;124mf\u001b[39m\u001b[38;5;124m\"\u001b[39m\u001b[38;5;132;01m{\u001b[39;00morig_endog\u001b[38;5;132;01m}\u001b[39;00m\u001b[38;5;130;01m\\n\u001b[39;00m\u001b[38;5;124mand\u001b[39m\u001b[38;5;130;01m\\n\u001b[39;00m\u001b[38;5;124m \u001b[39m\u001b[38;5;132;01m{\u001b[39;00morig_exog\u001b[38;5;132;01m}\u001b[39;00m\u001b[38;5;130;01m\\n\u001b[39;00m\u001b[38;5;124mbefore. After,\u001b[39m\u001b[38;5;130;01m\\n\u001b[39;00m\u001b[38;5;132;01m{\u001b[39;00mendog\u001b[38;5;132;01m}\u001b[39;00m\u001b[38;5;130;01m\\n\u001b[39;00m\u001b[38;5;132;01m{\u001b[39;00mexog\u001b[38;5;132;01m}\u001b[39;00m\u001b[38;5;124m.\u001b[39m\u001b[38;5;124m\"\u001b[39m\n\u001b[1;32m    535\u001b[0m     )\n\u001b[1;32m    536\u001b[0m \u001b[38;5;28;01mreturn\u001b[39;00m \u001b[38;5;28msuper\u001b[39m(PandasData, \u001b[38;5;28mself\u001b[39m)\u001b[38;5;241m.\u001b[39m_convert_endog_exog(endog, exog)\n",
      "\u001b[0;31mValueError\u001b[0m: Pandas data cast to numpy dtype of object. Check input data with np.asarray(data). The types seen wereNone and const           float64\nRACE_Chinese      int64\nRACE_Indian       int64\nRACE_Other        int64\ndtype: object. The data was\n0        11.05089\n2        4.094345\n3        9.472705\n4        7.600902\n5       11.759786\n          ...    \n7032    16.118096\n7033    10.463103\n7034    11.066638\n7036    16.118096\n7037    11.302204\nName: loginctot0, Length: 5861, dtype: object\nand\n       const  RACE_Chinese  RACE_Indian  RACE_Other\n0       1.0             0            0           1\n2       1.0             0            0           1\n3       1.0             0            0           0\n4       1.0             0            0           0\n5       1.0             0            1           0\n...     ...           ...          ...         ...\n7032    1.0             0            0           1\n7033    1.0             1            0           0\n7034    1.0             0            0           0\n7036    1.0             0            0           1\n7037    1.0             0            0           0\n\n[5861 rows x 4 columns]\nbefore. After,\n[11.050890005373669 4.0943445622221 9.472704636443673 ...\n 11.06663836234181 16.118095550958316 11.302204433654575]\n[[1. 0. 0. 1.]\n [1. 0. 0. 1.]\n [1. 0. 0. 0.]\n ...\n [1. 0. 0. 0.]\n [1. 0. 0. 1.]\n [1. 0. 0. 0.]]."
     ]
    }
   ],
   "source": [
    "X = df2[['RACE_Chinese', 'RACE_Indian', 'RACE_Other']]\n",
    "X = sm.add_constant(X)  \n",
    "y = df2['loginctot0']\n",
    "\n",
    "model = sm.OLS(y, X, missing='drop').fit()\n",
    "\n",
    "print(model.summary())"
   ]
  },
  {
   "cell_type": "code",
   "execution_count": 52,
   "id": "7aca2e0c-7608-40a7-b3bf-79a9794fab08",
   "metadata": {},
   "outputs": [
    {
     "name": "stdout",
     "output_type": "stream",
     "text": [
      "                            OLS Regression Results                            \n",
      "==============================================================================\n",
      "Dep. Variable:             log_inctot   R-squared:                       0.008\n",
      "Model:                            OLS   Adj. R-squared:                  0.008\n",
      "Method:                 Least Squares   F-statistic:                     19.70\n",
      "Date:                Sat, 09 Mar 2024   Prob (F-statistic):           1.03e-12\n",
      "Time:                        08:20:20   Log-Likelihood:                -27881.\n",
      "No. Observations:                7032   AIC:                         5.577e+04\n",
      "Df Residuals:                    7028   BIC:                         5.580e+04\n",
      "Df Model:                           3                                         \n",
      "Covariance Type:            nonrobust                                         \n",
      "================================================================================\n",
      "                   coef    std err          t      P>|t|      [0.025      0.975]\n",
      "--------------------------------------------------------------------------------\n",
      "const            3.7680      0.355     10.611      0.000       3.072       4.464\n",
      "RACE_Chinese     1.1681      0.415      2.814      0.005       0.354       1.982\n",
      "RACE_Indian      1.3505      0.667      2.024      0.043       0.042       2.659\n",
      "RACE_Other       3.4222      0.470      7.275      0.000       2.500       4.344\n",
      "==============================================================================\n",
      "Omnibus:                     1864.770   Durbin-Watson:                   1.892\n",
      "Prob(Omnibus):                  0.000   Jarque-Bera (JB):             3713.591\n",
      "Skew:                          -1.699   Prob(JB):                         0.00\n",
      "Kurtosis:                       4.063   Cond. No.                         6.19\n",
      "==============================================================================\n",
      "\n",
      "Notes:\n",
      "[1] Standard Errors assume that the covariance matrix of the errors is correctly specified.\n"
     ]
    }
   ],
   "source": [
    "X = df[['RACE_Chinese', 'RACE_Indian', 'RACE_Other']]\n",
    "X = sm.add_constant(X)  \n",
    "y = df['log_inctot']\n",
    "\n",
    "model = sm.OLS(y, X, missing='drop').fit()\n",
    "\n",
    "print(model.summary())"
   ]
  },
  {
   "cell_type": "code",
   "execution_count": 11,
   "id": "e1ce58c7-173e-479d-82c0-4c89eae95678",
   "metadata": {},
   "outputs": [
    {
     "name": "stdout",
     "output_type": "stream",
     "text": [
      "log_inctot      6\n",
      "RACE_Chinese    0\n",
      "RACE_Indian     0\n",
      "RACE_Other      0\n",
      "dtype: int64\n"
     ]
    }
   ],
   "source": [
    "# Check for missing values in the dataframe\n",
    "print(df[['log_inctot', 'RACE_Chinese', 'RACE_Indian', 'RACE_Other']].isnull().sum())"
   ]
  },
  {
   "cell_type": "code",
   "execution_count": 12,
   "id": "dd83b40c-603f-46f7-b13d-6c4bf5e5c1a5",
   "metadata": {},
   "outputs": [
    {
     "name": "stdout",
     "output_type": "stream",
     "text": [
      "log_inctot      0\n",
      "RACE_Chinese    0\n",
      "RACE_Indian     0\n",
      "RACE_Other      0\n",
      "dtype: int64\n"
     ]
    }
   ],
   "source": [
    "# Check for infinite values in the dataframe\n",
    "print(np.isinf(df[['log_inctot', 'RACE_Chinese', 'RACE_Indian', 'RACE_Other']]).sum())\n"
   ]
  },
  {
   "cell_type": "code",
   "execution_count": 13,
   "id": "45a643b2-532a-435b-9dfa-17d28f02fa6b",
   "metadata": {},
   "outputs": [],
   "source": [
    "df = df.dropna(subset=['INCTOT', 'log_inctot', 'RACE_Chinese', 'RACE_Indian', 'RACE_Other'])"
   ]
  },
  {
   "cell_type": "code",
   "execution_count": 14,
   "id": "8bc4546b-dd95-417b-9e37-29a6e3ebef1c",
   "metadata": {},
   "outputs": [
    {
     "name": "stdout",
     "output_type": "stream",
     "text": [
      "0       2\n",
      "1       1\n",
      "2       1\n",
      "3       1\n",
      "4       2\n",
      "       ..\n",
      "7033    1\n",
      "7034    1\n",
      "7035    2\n",
      "7036    2\n",
      "7037    1\n",
      "Name: SEX, Length: 7032, dtype: int64\n"
     ]
    }
   ],
   "source": [
    "print(df['SEX'])"
   ]
  },
  {
   "cell_type": "code",
   "execution_count": 15,
   "id": "43cef211-7bf8-4860-af91-cbc66f7a5df2",
   "metadata": {},
   "outputs": [
    {
     "name": "stdout",
     "output_type": "stream",
     "text": [
      "0       Female\n",
      "1         Male\n",
      "2         Male\n",
      "3         Male\n",
      "4       Female\n",
      "         ...  \n",
      "7033      Male\n",
      "7034      Male\n",
      "7035    Female\n",
      "7036    Female\n",
      "7037      Male\n",
      "Name: SEX_2, Length: 7032, dtype: object\n"
     ]
    }
   ],
   "source": [
    "df['SEX_2'] = df['SEX'].replace({1: 'Male', 2: 'Female'})\n",
    "print(df['SEX_2'])"
   ]
  },
  {
   "cell_type": "code",
   "execution_count": 17,
   "id": "8f930e72-5946-4ecc-af6e-9e7f2f716246",
   "metadata": {},
   "outputs": [
    {
     "name": "stdout",
     "output_type": "stream",
     "text": [
      "      YEAR  SAMPLE   SERIAL       CBSERIAL   HHWT        CLUSTER   STRATA  GQ  \\\n",
      "0     2010  201001     7876         488424   90.0  2010000078761   240001   1   \n",
      "1     2010  201001     7876         488424   90.0  2010000078761   240001   1   \n",
      "2     2010  201001     7876         488424   90.0  2010000078761   240001   1   \n",
      "3     2010  201001    22464        1388149  107.0  2010000224641   130001   1   \n",
      "4     2010  201001    22464        1388149  107.0  2010000224641   130001   1   \n",
      "...    ...     ...      ...            ...    ...            ...      ...  ..   \n",
      "7033  2019  201901  1403102  2019000128243   37.0  2019014031021   130155   1   \n",
      "7034  2019  201901  1404137  2019000186916   46.0  2019014041371   160055   1   \n",
      "7035  2019  201901  1405932  2019000293128  123.0  2019014059321    90055   1   \n",
      "7036  2019  201901  1413819  2019000743427  101.0  2019014138191  4100555   1   \n",
      "7037  2019  201901  1418721  2019001023584  143.0  2019014187211    10255   1   \n",
      "\n",
      "      PERNUM  PERWT  ...   IND   INCTOT  INCWAGE  MIGPLAC1  RACED_NEW  \\\n",
      "0          1   90.0  ...  6070    63000    63000         0      Other   \n",
      "1          2   94.0  ...  3080        0        0         0      Other   \n",
      "2          3  182.0  ...  8680       60        0         0      Other   \n",
      "3          1  107.0  ...  8680    13000    13000         0      Malay   \n",
      "4          2  250.0  ...  8680     2000     2000         0      Malay   \n",
      "...      ...    ...  ...   ...      ...      ...       ...        ...   \n",
      "7033       2   43.0  ...  5580    35000        0         0    Chinese   \n",
      "7034       1   46.0  ...  8680    64000    42000         0      Malay   \n",
      "7035       2  140.0  ...     0        0        0         0      Other   \n",
      "7036       7  123.0  ...     0  9999999   999999         0      Other   \n",
      "7037       1  143.0  ...  1080    81000    81000        32      Malay   \n",
      "\n",
      "     RACE_Other  RACE_Indian  RACE_Chinese  log_inctot  SEX_2_Male  \n",
      "0             1            0             0   11.050890           0  \n",
      "1             1            0             0  -23.025851           1  \n",
      "2             1            0             0    4.094345           1  \n",
      "3             0            0             0    9.472705           1  \n",
      "4             0            0             0    7.600902           0  \n",
      "...         ...          ...           ...         ...         ...  \n",
      "7033          0            0             1   10.463103           1  \n",
      "7034          0            0             0   11.066638           1  \n",
      "7035          1            0             0  -23.025851           0  \n",
      "7036          1            0             0   16.118096           0  \n",
      "7037          0            0             0   11.302204           1  \n",
      "\n",
      "[7032 rows x 46 columns]\n"
     ]
    }
   ],
   "source": [
    "# Assuming 'SEX' is the column representing gender in your DataFrame\n",
    "df=pd.get_dummies(df, columns=['SEX_2'], drop_first=True)\n",
    "df['SEX_2_Male'] = df['SEX_2_Male'].astype(int)\n",
    "print(df)"
   ]
  },
  {
   "cell_type": "code",
   "execution_count": 18,
   "id": "43068bb2-d90e-4e0a-a0f5-a50a9c547cf8",
   "metadata": {},
   "outputs": [
    {
     "name": "stdout",
     "output_type": "stream",
     "text": [
      "                            OLS Regression Results                            \n",
      "==============================================================================\n",
      "Dep. Variable:             log_inctot   R-squared:                       0.029\n",
      "Model:                            OLS   Adj. R-squared:                  0.028\n",
      "Method:                 Least Squares   F-statistic:                     42.09\n",
      "Date:                Sat, 09 Mar 2024   Prob (F-statistic):           7.43e-43\n",
      "Time:                        07:48:52   Log-Likelihood:                -27807.\n",
      "No. Observations:                7032   AIC:                         5.563e+04\n",
      "Df Residuals:                    7026   BIC:                         5.567e+04\n",
      "Df Model:                           5                                         \n",
      "Covariance Type:            nonrobust                                         \n",
      "================================================================================\n",
      "                   coef    std err          t      P>|t|      [0.025      0.975]\n",
      "--------------------------------------------------------------------------------\n",
      "const            2.1254      0.512      4.152      0.000       1.122       3.129\n",
      "RACE_Chinese     1.1059      0.418      2.644      0.008       0.286       1.926\n",
      "RACE_Indian      1.2398      0.663      1.870      0.062      -0.060       2.539\n",
      "RACE_Other       3.3408      0.468      7.137      0.000       2.423       4.258\n",
      "AGE             -0.0002      0.009     -0.024      0.981      -0.017       0.017\n",
      "SEX_2_Male       3.7001      0.303     12.221      0.000       3.107       4.294\n",
      "==============================================================================\n",
      "Omnibus:                     1818.028   Durbin-Watson:                   1.872\n",
      "Prob(Omnibus):                  0.000   Jarque-Bera (JB):             3564.240\n",
      "Skew:                          -1.663   Prob(JB):                         0.00\n",
      "Kurtosis:                       4.048   Cond. No.                         245.\n",
      "==============================================================================\n",
      "\n",
      "Notes:\n",
      "[1] Standard Errors assume that the covariance matrix of the errors is correctly specified.\n"
     ]
    }
   ],
   "source": [
    "X = df[['RACE_Chinese', 'RACE_Indian', 'RACE_Other','AGE','SEX_2_Male']]\n",
    "#X = df[['RACE_Chinese', 'RACE_Indian', 'RACE_Other','AGE']]\n",
    "X = sm.add_constant(X)  \n",
    "y = df['log_inctot']\n",
    "\n",
    "model = sm.OLS(y, X).fit()\n",
    "\n",
    "print(model.summary())"
   ]
  },
  {
   "cell_type": "code",
   "execution_count": 34,
   "id": "7455e346-f9e3-4b21-a10a-90a77b9e15cb",
   "metadata": {},
   "outputs": [
    {
     "name": "stdout",
     "output_type": "stream",
     "text": [
      "      YEAR  SAMPLE   SERIAL       CBSERIAL   HHWT        CLUSTER   STRATA  GQ  \\\n",
      "0     2010  201001     7876         488424   90.0  2010000078761   240001   1   \n",
      "1     2010  201001     7876         488424   90.0  2010000078761   240001   1   \n",
      "2     2010  201001     7876         488424   90.0  2010000078761   240001   1   \n",
      "3     2010  201001    22464        1388149  107.0  2010000224641   130001   1   \n",
      "4     2010  201001    22464        1388149  107.0  2010000224641   130001   1   \n",
      "...    ...     ...      ...            ...    ...            ...      ...  ..   \n",
      "7033  2019  201901  1403102  2019000128243   37.0  2019014031021   130155   1   \n",
      "7034  2019  201901  1404137  2019000186916   46.0  2019014041371   160055   1   \n",
      "7035  2019  201901  1405932  2019000293128  123.0  2019014059321    90055   1   \n",
      "7036  2019  201901  1413819  2019000743427  101.0  2019014138191  4100555   1   \n",
      "7037  2019  201901  1418721  2019001023584  143.0  2019014187211    10255   1   \n",
      "\n",
      "      PERNUM  PERWT  ...   INCTOT  INCWAGE  MIGPLAC1  RACED_NEW  RACE_Other  \\\n",
      "0          1   90.0  ...    63000    63000         0      Other           1   \n",
      "1          2   94.0  ...        0        0         0      Other           1   \n",
      "2          3  182.0  ...       60        0         0      Other           1   \n",
      "3          1  107.0  ...    13000    13000         0      Malay           0   \n",
      "4          2  250.0  ...     2000     2000         0      Malay           0   \n",
      "...      ...    ...  ...      ...      ...       ...        ...         ...   \n",
      "7033       2   43.0  ...    35000        0         0    Chinese           0   \n",
      "7034       1   46.0  ...    64000    42000         0      Malay           0   \n",
      "7035       2  140.0  ...        0        0         0      Other           1   \n",
      "7036       7  123.0  ...  9999999   999999         0      Other           1   \n",
      "7037       1  143.0  ...    81000    81000        32      Malay           0   \n",
      "\n",
      "     RACE_Indian  RACE_Chinese  log_inctot  SEX_2_Male  yrsed  \n",
      "0              0             0   11.050890           0   18.0  \n",
      "1              0             0  -23.025851           1   16.0  \n",
      "2              0             0    4.094345           1   13.0  \n",
      "3              0             0    9.472705           1   12.0  \n",
      "4              0             0    7.600902           0   12.0  \n",
      "...          ...           ...         ...         ...    ...  \n",
      "7033           0             1   10.463103           1   16.0  \n",
      "7034           0             0   11.066638           1   18.0  \n",
      "7035           0             0  -23.025851           0   16.0  \n",
      "7036           0             0   16.118096           0    1.0  \n",
      "7037           0             0   11.302204           1   16.0  \n",
      "\n",
      "[7032 rows x 47 columns]\n"
     ]
    },
    {
     "name": "stderr",
     "output_type": "stream",
     "text": [
      "/tmp/ipykernel_67/1238924226.py:15: FutureWarning: Setting an item of incompatible dtype is deprecated and will raise an error in a future version of pandas. Value '5.5' has dtype incompatible with int64, please explicitly cast to a compatible dtype first.\n",
      "  df.loc[df['EDUCD'] == 21, 'yrsed'] = 5.5  # pre-2008\n"
     ]
    }
   ],
   "source": [
    "# Assuming df is your DataFrame and 'EDUCD' is the column you want to recategorize\n",
    "df['yrsed'] = 0  # Initialize 'yrsed' column to 0\n",
    "\n",
    "# Recategorize based on Stata code\n",
    "df.loc[df['EDUCD'] == 0, 'yrsed'] = 0\n",
    "df.loc[df['EDUCD'] == 1, 'yrsed'] = 0\n",
    "df.loc[df['EDUCD'] == 2, 'yrsed'] = 0\n",
    "df.loc[df['EDUCD'] == 10, 'yrsed'] = 2  # pre-2008\n",
    "df.loc[df['EDUCD'] == 11, 'yrsed'] = 0\n",
    "df.loc[df['EDUCD'] == 12, 'yrsed'] = 0\n",
    "df.loc[df['EDUCD'] == 14, 'yrsed'] = 1\n",
    "df.loc[df['EDUCD'] == 15, 'yrsed'] = 2\n",
    "df.loc[df['EDUCD'] == 16, 'yrsed'] = 3\n",
    "df.loc[df['EDUCD'] == 17, 'yrsed'] = 4\n",
    "df.loc[df['EDUCD'] == 21, 'yrsed'] = 5.5  # pre-2008\n",
    "df.loc[df['EDUCD'] == 22, 'yrsed'] = 5\n",
    "df.loc[df['EDUCD'] == 23, 'yrsed'] = 6\n",
    "df.loc[df['EDUCD'] == 24, 'yrsed'] = 7.5  # pre-2008\n",
    "df.loc[df['EDUCD'] == 25, 'yrsed'] = 7\n",
    "df.loc[df['EDUCD'] == 26, 'yrsed'] = 8\n",
    "# Switch to educ\n",
    "df.loc[df['EDUC'] == 3, 'yrsed'] = 9\n",
    "df.loc[df['EDUC'] == 4, 'yrsed'] = 10\n",
    "df.loc[df['EDUC'] == 5, 'yrsed'] = 11\n",
    "# Switch to educd\n",
    "df.loc[df['EDUCD'] == 61, 'yrsed'] = 11  # HS no diploma\n",
    "df.loc[(df['EDUCD'] == 62) | (df['EDUCD'] == 63) | (df['EDUCD'] == 64), 'yrsed'] = 12\n",
    "df.loc[df['EDUCD'] == 65, 'yrsed'] = 12.5\n",
    "# Switch to educ\n",
    "df.loc[df['EDUC'] == 7, 'yrsed'] = 13\n",
    "df.loc[df['EDUC'] == 8, 'yrsed'] = 14\n",
    "df.loc[df['EDUC'] == 9, 'yrsed'] = 15\n",
    "df.loc[df['EDUC'] == 10, 'yrsed'] = 16\n",
    "df.loc[df['EDUCD'] == 110, 'yrsed'] = 17\n",
    "df.loc[df['EDUCD'] == 111, 'yrsed'] = 18\n",
    "df.loc[df['EDUCD'] == 112, 'yrsed'] = 19\n",
    "df.loc[df['EDUCD'] == 113, 'yrsed'] = 20\n",
    "df.loc[df['EDUCD'] == 114, 'yrsed'] = 18\n",
    "df.loc[df['EDUCD'] == 115, 'yrsed'] = 19\n",
    "df.loc[df['EDUCD'] == 116, 'yrsed'] = 20\n",
    "\n",
    "print(df)"
   ]
  },
  {
   "cell_type": "code",
   "execution_count": 35,
   "id": "c417892a-fc0c-4d44-b203-3afe52c8c43d",
   "metadata": {},
   "outputs": [
    {
     "name": "stdout",
     "output_type": "stream",
     "text": [
      "                            OLS Regression Results                            \n",
      "==============================================================================\n",
      "Dep. Variable:             log_inctot   R-squared:                       0.000\n",
      "Model:                            OLS   Adj. R-squared:                 -0.000\n",
      "Method:                 Least Squares   F-statistic:                    0.1714\n",
      "Date:                Sat, 09 Mar 2024   Prob (F-statistic):              0.679\n",
      "Time:                        08:08:02   Log-Likelihood:                -27911.\n",
      "No. Observations:                7032   AIC:                         5.583e+04\n",
      "Df Residuals:                    7030   BIC:                         5.584e+04\n",
      "Df Model:                           1                                         \n",
      "Covariance Type:            nonrobust                                         \n",
      "==============================================================================\n",
      "                 coef    std err          t      P>|t|      [0.025      0.975]\n",
      "------------------------------------------------------------------------------\n",
      "const          5.1183      0.426     12.010      0.000       4.283       5.954\n",
      "yrsed          0.0123      0.030      0.414      0.679      -0.046       0.070\n",
      "==============================================================================\n",
      "Omnibus:                     1847.241   Durbin-Watson:                   1.887\n",
      "Prob(Omnibus):                  0.000   Jarque-Bera (JB):             3657.192\n",
      "Skew:                          -1.689   Prob(JB):                         0.00\n",
      "Kurtosis:                       4.038   Cond. No.                         40.3\n",
      "==============================================================================\n",
      "\n",
      "Notes:\n",
      "[1] Standard Errors assume that the covariance matrix of the errors is correctly specified.\n"
     ]
    }
   ],
   "source": [
    "X = df[['yrsed']]\n",
    "X = sm.add_constant(X)  \n",
    "y = df['log_inctot']\n",
    "\n",
    "model = sm.OLS(y, X).fit()\n",
    "\n",
    "print(model.summary())"
   ]
  },
  {
   "cell_type": "code",
   "execution_count": 36,
   "id": "37341f3e-5f16-444a-9e55-0849441c4471",
   "metadata": {},
   "outputs": [
    {
     "name": "stdout",
     "output_type": "stream",
     "text": [
      "                            OLS Regression Results                            \n",
      "==============================================================================\n",
      "Dep. Variable:             log_inctot   R-squared:                       0.030\n",
      "Model:                            OLS   Adj. R-squared:                  0.029\n",
      "Method:                 Least Squares   F-statistic:                     35.78\n",
      "Date:                Sat, 09 Mar 2024   Prob (F-statistic):           6.61e-43\n",
      "Time:                        08:08:07   Log-Likelihood:                -27805.\n",
      "No. Observations:                7032   AIC:                         5.562e+04\n",
      "Df Residuals:                    7025   BIC:                         5.567e+04\n",
      "Df Model:                           6                                         \n",
      "Covariance Type:                  HC3                                         \n",
      "================================================================================\n",
      "                   coef    std err          z      P>|z|      [0.025      0.975]\n",
      "--------------------------------------------------------------------------------\n",
      "const            1.4813      0.630      2.351      0.019       0.246       2.716\n",
      "RACE_Chinese     1.1275      0.436      2.584      0.010       0.272       1.983\n",
      "RACE_Indian      1.1956      0.671      1.783      0.075      -0.119       2.510\n",
      "RACE_Other       3.4909      0.492      7.090      0.000       2.526       4.456\n",
      "AGE             -0.0049      0.010     -0.494      0.622      -0.024       0.015\n",
      "SEX_2_Male       3.6647      0.296     12.364      0.000       3.084       4.246\n",
      "yrsed            0.0606      0.031      1.954      0.051      -0.000       0.121\n",
      "==============================================================================\n",
      "Omnibus:                     1806.726   Durbin-Watson:                   1.871\n",
      "Prob(Omnibus):                  0.000   Jarque-Bera (JB):             3528.634\n",
      "Skew:                          -1.655   Prob(JB):                         0.00\n",
      "Kurtosis:                       4.040   Cond. No.                         262.\n",
      "==============================================================================\n",
      "\n",
      "Notes:\n",
      "[1] Standard Errors are heteroscedasticity robust (HC3)\n"
     ]
    }
   ],
   "source": [
    "X = df[['RACE_Chinese', 'RACE_Indian', 'RACE_Other','AGE','SEX_2_Male','yrsed']]\n",
    "X = sm.add_constant(X)  \n",
    "y = df['log_inctot']\n",
    "\n",
    "model = sm.OLS(y, X).fit(cov_type='HC3')\n",
    "\n",
    "print(model.summary())"
   ]
  },
  {
   "cell_type": "code",
   "execution_count": 22,
   "id": "32b93b42-3f7b-4c26-bf90-936aff279681",
   "metadata": {},
   "outputs": [
    {
     "name": "stdout",
     "output_type": "stream",
     "text": [
      "CITIZEN\n",
      "3    3540\n",
      "2    3198\n",
      "1     294\n",
      "Name: count, dtype: int64\n"
     ]
    }
   ],
   "source": [
    "print(df['CITIZEN'].value_counts())"
   ]
  },
  {
   "cell_type": "code",
   "execution_count": 23,
   "id": "53f94685-973a-4d3e-b39a-47ab69ec68c7",
   "metadata": {},
   "outputs": [],
   "source": [
    "reg_df = df[df['CITIZEN'] != 1]"
   ]
  },
  {
   "cell_type": "code",
   "execution_count": 24,
   "id": "846270d3-2232-4d9a-b136-a9e2c640a4b9",
   "metadata": {},
   "outputs": [
    {
     "name": "stdout",
     "output_type": "stream",
     "text": [
      "                            OLS Regression Results                            \n",
      "==============================================================================\n",
      "Dep. Variable:             log_inctot   R-squared:                       0.032\n",
      "Model:                            OLS   Adj. R-squared:                  0.031\n",
      "Method:                 Least Squares   F-statistic:                     39.91\n",
      "Date:                Sat, 09 Mar 2024   Prob (F-statistic):           5.42e-48\n",
      "Time:                        07:55:14   Log-Likelihood:                -26648.\n",
      "No. Observations:                6738   AIC:                         5.331e+04\n",
      "Df Residuals:                    6731   BIC:                         5.336e+04\n",
      "Df Model:                           6                                         \n",
      "Covariance Type:                  HC3                                         \n",
      "================================================================================\n",
      "                   coef    std err          z      P>|z|      [0.025      0.975]\n",
      "--------------------------------------------------------------------------------\n",
      "const            1.5323      0.573      2.673      0.008       0.409       2.656\n",
      "RACE_Chinese     0.9475      0.437      2.166      0.030       0.090       1.805\n",
      "RACE_Indian      1.0802      0.670      1.612      0.107      -0.233       2.393\n",
      "RACE_Other       3.2493      0.502      6.475      0.000       2.266       4.233\n",
      "AGE             -0.0012      0.010     -0.127      0.899      -0.021       0.018\n",
      "SEX_2_Male       3.7015      0.303     12.197      0.000       3.107       4.296\n",
      "yrsed            0.1013      0.018      5.586      0.000       0.066       0.137\n",
      "==============================================================================\n",
      "Omnibus:                     1697.565   Durbin-Watson:                   1.881\n",
      "Prob(Omnibus):                  0.000   Jarque-Bera (JB):             3275.727\n",
      "Skew:                          -1.637   Prob(JB):                         0.00\n",
      "Kurtosis:                       3.977   Cond. No.                         248.\n",
      "==============================================================================\n",
      "\n",
      "Notes:\n",
      "[1] Standard Errors are heteroscedasticity robust (HC3)\n"
     ]
    }
   ],
   "source": [
    "X = reg_df[['RACE_Chinese', 'RACE_Indian', 'RACE_Other','AGE','SEX_2_Male','yrsed']]\n",
    "X = sm.add_constant(X)  \n",
    "y = reg_df['log_inctot']\n",
    "\n",
    "model = sm.OLS(y, X).fit(cov_type='HC3')\n",
    "\n",
    "print(model.summary())"
   ]
  },
  {
   "cell_type": "code",
   "execution_count": 25,
   "id": "874a193f-e6e5-4a16-aee5-945db57d1b7c",
   "metadata": {},
   "outputs": [
    {
     "name": "stdout",
     "output_type": "stream",
     "text": [
      "                            OLS Regression Results                            \n",
      "==============================================================================\n",
      "Dep. Variable:             log_inctot   R-squared:                       0.032\n",
      "Model:                            OLS   Adj. R-squared:                  0.031\n",
      "Method:                 Least Squares   F-statistic:                     39.91\n",
      "Date:                Sat, 09 Mar 2024   Prob (F-statistic):           5.42e-48\n",
      "Time:                        07:56:13   Log-Likelihood:                -26648.\n",
      "No. Observations:                6738   AIC:                         5.331e+04\n",
      "Df Residuals:                    6731   BIC:                         5.336e+04\n",
      "Df Model:                           6                                         \n",
      "Covariance Type:                  HC3                                         \n",
      "================================================================================\n",
      "                   coef    std err          z      P>|z|      [0.025      0.975]\n",
      "--------------------------------------------------------------------------------\n",
      "const            1.5323      0.573      2.673      0.008       0.409       2.656\n",
      "RACE_Chinese     0.9475      0.437      2.166      0.030       0.090       1.805\n",
      "RACE_Indian      1.0802      0.670      1.612      0.107      -0.233       2.393\n",
      "RACE_Other       3.2493      0.502      6.475      0.000       2.266       4.233\n",
      "AGE             -0.0012      0.010     -0.127      0.899      -0.021       0.018\n",
      "SEX_2_Male       3.7015      0.303     12.197      0.000       3.107       4.296\n",
      "yrsed            0.1013      0.018      5.586      0.000       0.066       0.137\n",
      "==============================================================================\n",
      "Omnibus:                     1697.565   Durbin-Watson:                   1.881\n",
      "Prob(Omnibus):                  0.000   Jarque-Bera (JB):             3275.727\n",
      "Skew:                          -1.637   Prob(JB):                         0.00\n",
      "Kurtosis:                       3.977   Cond. No.                         248.\n",
      "==============================================================================\n",
      "\n",
      "Notes:\n",
      "[1] Standard Errors are heteroscedasticity robust (HC3)\n"
     ]
    }
   ],
   "source": [
    "X = reg_df[['RACE_Chinese', 'RACE_Indian', 'RACE_Other']]\n",
    "X = sm.add_constant(X)  \n",
    "y = reg_df['log_inctot']\n",
    "\n",
    "model2 = sm.OLS(y, X).fit(cov_type='HC3')\n",
    "\n",
    "print(model.summary())"
   ]
  },
  {
   "cell_type": "code",
   "execution_count": 26,
   "id": "63f17410-cbb0-428b-ab19-d2044021423e",
   "metadata": {},
   "outputs": [
    {
     "name": "stdout",
     "output_type": "stream",
     "text": [
      "\n",
      "=========================\n",
      "               Your Model\n",
      "-------------------------\n",
      "const          1.5323*** \n",
      "               (0.5733)  \n",
      "RACE_Chinese   0.9475**  \n",
      "               (0.4373)  \n",
      "RACE_Indian    1.0802    \n",
      "               (0.6700)  \n",
      "RACE_Other     3.2493*** \n",
      "               (0.5018)  \n",
      "AGE            -0.0012   \n",
      "               (0.0098)  \n",
      "SEX_2_Male     3.7015*** \n",
      "               (0.3035)  \n",
      "yrsed          0.1013*** \n",
      "               (0.0181)  \n",
      "R-squared      0.0320    \n",
      "R-squared Adj. 0.0312    \n",
      "N              6738      \n",
      "R-squared      0.0320    \n",
      "=========================\n",
      "Standard errors in\n",
      "parentheses.\n",
      "* p<.1, ** p<.05,\n",
      "***p<.01\n"
     ]
    },
    {
     "name": "stderr",
     "output_type": "stream",
     "text": [
      "/srv/conda/lib/python3.9/site-packages/statsmodels/iolib/summary2.py:579: FutureWarning: DataFrame.applymap has been deprecated. Use DataFrame.map instead.\n",
      "  dat = dat.applymap(lambda x: _formatter(x, float_format))\n"
     ]
    }
   ],
   "source": [
    "import pandas as pd\n",
    "import statsmodels.api as sm\n",
    "from statsmodels.iolib.summary2 import summary_col\n",
    "\n",
    "# Assuming you have your regression results stored in 'regression_result'\n",
    "\n",
    "# Create a summary table\n",
    "results_table = summary_col([model],   # List with a single regression result\n",
    "                            float_format='%0.4f',  # Format for coefficients\n",
    "                            stars=True,             # Display significance stars\n",
    "                            model_names=['Your Model'],  # Model name\n",
    "                            info_dict={'N': lambda x: \"{0:d}\".format(int(x.nobs)),  # Add custom information\n",
    "                                       'R-squared': lambda x: \"{:.4f}\".format(x.rsquared)})\n",
    "\n",
    "# Print the table\n",
    "print(results_table)\n"
   ]
  },
  {
   "cell_type": "code",
   "execution_count": 27,
   "id": "e0539be5-f7eb-429c-833b-2377a5cc1c71",
   "metadata": {},
   "outputs": [
    {
     "name": "stdout",
     "output_type": "stream",
     "text": [
      "Collecting stargazer\n",
      "  Downloading stargazer-0.0.6-py3-none-any.whl (11 kB)\n",
      "Installing collected packages: stargazer\n",
      "Successfully installed stargazer-0.0.6\n"
     ]
    }
   ],
   "source": [
    "!pip install stargazer\n",
    "import pandas as pd\n",
    "from sklearn import datasets\n",
    "import statsmodels.api as sm\n",
    "from stargazer.stargazer import Stargazer\n",
    "from IPython.core.display import HTML"
   ]
  },
  {
   "cell_type": "code",
   "execution_count": 28,
   "id": "1689e49a-54cd-4d53-85ab-6fd2b36427b7",
   "metadata": {
    "scrolled": true
   },
   "outputs": [
    {
     "data": {
      "text/html": [
       "<table style=\"text-align:center\"><tr><td colspan=\"3\" style=\"border-bottom: 1px solid black\"></td></tr>\n",
       "<tr><td style=\"text-align:left\"></td><td colspan=\"2\"><em>Dependent variable: log_inctot</em></td></tr><tr><td style=\"text-align:left\"></td><tr><td style=\"text-align:left\"></td><td>(1)</td><td>(2)</td></tr>\n",
       "<tr><td colspan=\"3\" style=\"border-bottom: 1px solid black\"></td></tr>\n",
       "\n",
       "<tr><td style=\"text-align:left\">AGE</td><td></td><td>-0.001<sup></sup></td></tr>\n",
       "<tr><td style=\"text-align:left\"></td><td></td><td>(0.010)</td></tr>\n",
       "<tr><td style=\"text-align:left\">RACE_Chinese</td><td>1.103<sup>**</sup></td><td>0.947<sup>**</sup></td></tr>\n",
       "<tr><td style=\"text-align:left\"></td><td>(0.435)</td><td>(0.437)</td></tr>\n",
       "<tr><td style=\"text-align:left\">RACE_Indian</td><td>1.369<sup>**</sup></td><td>1.080<sup></sup></td></tr>\n",
       "<tr><td style=\"text-align:left\"></td><td>(0.686)</td><td>(0.670)</td></tr>\n",
       "<tr><td style=\"text-align:left\">RACE_Other</td><td>3.202<sup>***</sup></td><td>3.249<sup>***</sup></td></tr>\n",
       "<tr><td style=\"text-align:left\"></td><td>(0.500)</td><td>(0.502)</td></tr>\n",
       "<tr><td style=\"text-align:left\">SEX_2_Male</td><td></td><td>3.701<sup>***</sup></td></tr>\n",
       "<tr><td style=\"text-align:left\"></td><td></td><td>(0.303)</td></tr>\n",
       "<tr><td style=\"text-align:left\">const</td><td>3.795<sup>***</sup></td><td>1.532<sup>***</sup></td></tr>\n",
       "<tr><td style=\"text-align:left\"></td><td>(0.379)</td><td>(0.573)</td></tr>\n",
       "<tr><td style=\"text-align:left\">yrsed</td><td></td><td>0.101<sup>***</sup></td></tr>\n",
       "<tr><td style=\"text-align:left\"></td><td></td><td>(0.018)</td></tr>\n",
       "\n",
       "<td colspan=\"3\" style=\"border-bottom: 1px solid black\"></td></tr>\n",
       "<tr><td style=\"text-align: left\">Observations</td><td>6738</td><td>6738</td></tr><tr><td style=\"text-align: left\">R<sup>2</sup></td><td>0.007</td><td>0.032</td></tr><tr><td style=\"text-align: left\">Adjusted R<sup>2</sup></td><td>0.006</td><td>0.031</td></tr><tr><td style=\"text-align: left\">Residual Std. Error</td><td>12.795 (df=6734)</td><td>12.634 (df=6731)</td></tr><tr><td style=\"text-align: left\">F Statistic</td><td>15.353<sup>***</sup> (df=3; 6734)</td><td>39.913<sup>***</sup> (df=6; 6731)</td></tr>\n",
       "<tr><td colspan=\"3\" style=\"border-bottom: 1px solid black\"></td></tr><tr><td style=\"text-align: left\">Note:</td><td colspan=\"2\" style=\"text-align: right\"><sup>*</sup>p&lt;0.1; <sup>**</sup>p&lt;0.05; <sup>***</sup>p&lt;0.01</td></tr></table>"
      ],
      "text/plain": [
       "<IPython.core.display.HTML object>"
      ]
     },
     "execution_count": 28,
     "metadata": {},
     "output_type": "execute_result"
    }
   ],
   "source": [
    "stargazer = Stargazer([model2,model])\n",
    "HTML(stargazer.render_html())"
   ]
  },
  {
   "cell_type": "code",
   "execution_count": 33,
   "id": "3e1882c4-6595-4b3b-aea8-2929cb10bb55",
   "metadata": {},
   "outputs": [
    {
     "name": "stdout",
     "output_type": "stream",
     "text": [
      "Summary for yrsed:\n",
      "count    7032.000000\n",
      "mean        6.914036\n",
      "std         7.860108\n",
      "min         0.000000\n",
      "25%         0.000000\n",
      "50%         0.000000\n",
      "75%        12.500000\n",
      "max        20.000000\n",
      "Name: yrsed, dtype: float64\n"
     ]
    }
   ],
   "source": [
    "column_summary = df['yrsed'].describe()\n",
    "print(f\"Summary for yrsed:\\n{column_summary}\")"
   ]
  },
  {
   "cell_type": "code",
   "execution_count": null,
   "id": "52af2abf-f9bf-4683-824e-3f4d8650bf14",
   "metadata": {},
   "outputs": [],
   "source": []
  }
 ],
 "metadata": {
  "kernelspec": {
   "display_name": "Python 3 (ipykernel)",
   "language": "python",
   "name": "python3"
  },
  "language_info": {
   "codemirror_mode": {
    "name": "ipython",
    "version": 3
   },
   "file_extension": ".py",
   "mimetype": "text/x-python",
   "name": "python",
   "nbconvert_exporter": "python",
   "pygments_lexer": "ipython3",
   "version": "3.9.15"
  }
 },
 "nbformat": 4,
 "nbformat_minor": 5
}
